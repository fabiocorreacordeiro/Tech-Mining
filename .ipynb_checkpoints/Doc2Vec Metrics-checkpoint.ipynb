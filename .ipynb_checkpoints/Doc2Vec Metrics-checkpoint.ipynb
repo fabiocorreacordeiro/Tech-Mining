{
 "cells": [
  {
   "cell_type": "markdown",
   "metadata": {},
   "source": [
    "Neste notebook será avaliado o quão boa foi a vetorização das Keywords. Para tal usamos dois conjuntos de teste composto por três colunas. No primeiro conjuto usamos as próprias keywords, as duas primeiras colunas contém keywords que foram extraídas de um mesmo artigo, já a terceira coluna tem um keyword aleatória. Espera-se que os vetores da primeira e segunda coluna estejam mais próximo entre si do que do vetor da keyword aleatória. O segundo conjunto de teste usa a mesma abordagem mas ao invés de usar keywords usa os autores dos artigos."
   ]
  },
  {
   "cell_type": "markdown",
   "metadata": {},
   "source": [
    "Importando bibliotecas"
   ]
  },
  {
   "cell_type": "code",
   "execution_count": 210,
   "metadata": {},
   "outputs": [],
   "source": [
    "import pandas as pd\n",
    "from gensim.models.doc2vec import Doc2Vec\n",
    "from scipy import spatial"
   ]
  },
  {
   "cell_type": "markdown",
   "metadata": {},
   "source": [
    "Lendo os arquivos"
   ]
  },
  {
   "cell_type": "code",
   "execution_count": 211,
   "metadata": {},
   "outputs": [],
   "source": [
    "# Keyword Vectors\n",
    "Keyword_vectors = pd.read_json(\"Elsevier_abstract - Keywords.json\")\n",
    "# Keyword Test Corpus\n",
    "Test_Corpus_keywords = pd.read_csv(\"Test_Corpus_keywords.csv\", index_col=0)\n",
    "# Creator Vectors\n",
    "Creator_vectors = pd.read_json(\"Elsevier_abstract - Creators.json\")\n",
    "# Creator Test Corpus\n",
    "Test_Corpus_creator = pd.read_csv(\"Test_Corpus_creator.csv\", index_col=0)\n",
    "# Modelo Doc2Vec\n",
    "doc2vec = Doc2Vec.load(\"AbstractKG_doc2vec_model\")"
   ]
  },
  {
   "cell_type": "code",
   "execution_count": 212,
   "metadata": {},
   "outputs": [
    {
     "data": {
      "text/html": [
       "<div>\n",
       "<style scoped>\n",
       "    .dataframe tbody tr th:only-of-type {\n",
       "        vertical-align: middle;\n",
       "    }\n",
       "\n",
       "    .dataframe tbody tr th {\n",
       "        vertical-align: top;\n",
       "    }\n",
       "\n",
       "    .dataframe thead th {\n",
       "        text-align: right;\n",
       "    }\n",
       "</style>\n",
       "<table border=\"1\" class=\"dataframe\">\n",
       "  <thead>\n",
       "    <tr style=\"text-align: right;\">\n",
       "      <th></th>\n",
       "      <th>Abstracts</th>\n",
       "      <th>Creator</th>\n",
       "      <th>Doc2Vec</th>\n",
       "    </tr>\n",
       "  </thead>\n",
       "  <tbody>\n",
       "    <tr>\n",
       "      <th>0</th>\n",
       "      <td>[complexes, of, and, aminopyridine, with, the,...</td>\n",
       "      <td>gerrard, d.l.</td>\n",
       "      <td>[0.1216731519, -1.1021842957, 4.7513136864, 4....</td>\n",
       "    </tr>\n",
       "    <tr>\n",
       "      <th>1</th>\n",
       "      <td>[complexes, of, and, aminopyridine, with, the,...</td>\n",
       "      <td>allan, j.r.</td>\n",
       "      <td>[1.0570453405, 0.12217671420000001, 5.93484735...</td>\n",
       "    </tr>\n",
       "    <tr>\n",
       "      <th>10</th>\n",
       "      <td>[small, angle, neutron, scattering, has, been,...</td>\n",
       "      <td>peiffer, d.g.</td>\n",
       "      <td>[0.6661279202, -7.5089697838, 2.51254320139999...</td>\n",
       "    </tr>\n",
       "    <tr>\n",
       "      <th>100</th>\n",
       "      <td>[dijet, angular, distributions, from, the, fir...</td>\n",
       "      <td>liang, z.</td>\n",
       "      <td>[-1.2167836428, -6.4154033661, -7.2966299057, ...</td>\n",
       "    </tr>\n",
       "    <tr>\n",
       "      <th>101</th>\n",
       "      <td>[the, chemisorption, and, thermal, decompositi...</td>\n",
       "      <td>gland, j.l.</td>\n",
       "      <td>[3.8563585281, -5.672191143, 4.7051215172, 8.6...</td>\n",
       "    </tr>\n",
       "  </tbody>\n",
       "</table>\n",
       "</div>"
      ],
      "text/plain": [
       "                                             Abstracts        Creator  \\\n",
       "0    [complexes, of, and, aminopyridine, with, the,...  gerrard, d.l.   \n",
       "1    [complexes, of, and, aminopyridine, with, the,...    allan, j.r.   \n",
       "10   [small, angle, neutron, scattering, has, been,...  peiffer, d.g.   \n",
       "100  [dijet, angular, distributions, from, the, fir...      liang, z.   \n",
       "101  [the, chemisorption, and, thermal, decompositi...    gland, j.l.   \n",
       "\n",
       "                                               Doc2Vec  \n",
       "0    [0.1216731519, -1.1021842957, 4.7513136864, 4....  \n",
       "1    [1.0570453405, 0.12217671420000001, 5.93484735...  \n",
       "10   [0.6661279202, -7.5089697838, 2.51254320139999...  \n",
       "100  [-1.2167836428, -6.4154033661, -7.2966299057, ...  \n",
       "101  [3.8563585281, -5.672191143, 4.7051215172, 8.6...  "
      ]
     },
     "execution_count": 212,
     "metadata": {},
     "output_type": "execute_result"
    }
   ],
   "source": [
    "# Vetores das Keywords\n",
    "Creator_vectors.head()"
   ]
  },
  {
   "cell_type": "code",
   "execution_count": 213,
   "metadata": {},
   "outputs": [
    {
     "data": {
      "text/html": [
       "<div>\n",
       "<style scoped>\n",
       "    .dataframe tbody tr th:only-of-type {\n",
       "        vertical-align: middle;\n",
       "    }\n",
       "\n",
       "    .dataframe tbody tr th {\n",
       "        vertical-align: top;\n",
       "    }\n",
       "\n",
       "    .dataframe thead th {\n",
       "        text-align: right;\n",
       "    }\n",
       "</style>\n",
       "<table border=\"1\" class=\"dataframe\">\n",
       "  <thead>\n",
       "    <tr style=\"text-align: right;\">\n",
       "      <th></th>\n",
       "      <th>Keyword_1</th>\n",
       "      <th>Keyword_2</th>\n",
       "      <th>Random_keyword</th>\n",
       "    </tr>\n",
       "  </thead>\n",
       "  <tbody>\n",
       "    <tr>\n",
       "      <th>0</th>\n",
       "      <td>xanes</td>\n",
       "      <td>weathering</td>\n",
       "      <td>environmental impact</td>\n",
       "    </tr>\n",
       "    <tr>\n",
       "      <th>1</th>\n",
       "      <td>iran</td>\n",
       "      <td>seismic</td>\n",
       "      <td>carbon capture and storage</td>\n",
       "    </tr>\n",
       "    <tr>\n",
       "      <th>2</th>\n",
       "      <td>transesterification</td>\n",
       "      <td>microwave</td>\n",
       "      <td>saft</td>\n",
       "    </tr>\n",
       "    <tr>\n",
       "      <th>3</th>\n",
       "      <td>transesterification</td>\n",
       "      <td>biodiesel</td>\n",
       "      <td>damage</td>\n",
       "    </tr>\n",
       "    <tr>\n",
       "      <th>4</th>\n",
       "      <td>microwave</td>\n",
       "      <td>biodiesel</td>\n",
       "      <td>steel</td>\n",
       "    </tr>\n",
       "  </tbody>\n",
       "</table>\n",
       "</div>"
      ],
      "text/plain": [
       "             Keyword_1   Keyword_2              Random_keyword\n",
       "0                xanes  weathering        environmental impact\n",
       "1                 iran     seismic  carbon capture and storage\n",
       "2  transesterification   microwave                        saft\n",
       "3  transesterification   biodiesel                      damage\n",
       "4            microwave   biodiesel                       steel"
      ]
     },
     "execution_count": 213,
     "metadata": {},
     "output_type": "execute_result"
    }
   ],
   "source": [
    "Test_Corpus_keywords.head()"
   ]
  },
  {
   "cell_type": "code",
   "execution_count": 214,
   "metadata": {},
   "outputs": [
    {
     "data": {
      "text/html": [
       "<div>\n",
       "<style scoped>\n",
       "    .dataframe tbody tr th:only-of-type {\n",
       "        vertical-align: middle;\n",
       "    }\n",
       "\n",
       "    .dataframe tbody tr th {\n",
       "        vertical-align: top;\n",
       "    }\n",
       "\n",
       "    .dataframe thead th {\n",
       "        text-align: right;\n",
       "    }\n",
       "</style>\n",
       "<table border=\"1\" class=\"dataframe\">\n",
       "  <thead>\n",
       "    <tr style=\"text-align: right;\">\n",
       "      <th></th>\n",
       "      <th>Creator_1</th>\n",
       "      <th>Creator_2</th>\n",
       "      <th>Random_Creator</th>\n",
       "    </tr>\n",
       "  </thead>\n",
       "  <tbody>\n",
       "    <tr>\n",
       "      <th>0</th>\n",
       "      <td>allan, j.r.</td>\n",
       "      <td>paton, a.d.</td>\n",
       "      <td>petersen, j.</td>\n",
       "    </tr>\n",
       "    <tr>\n",
       "      <th>1</th>\n",
       "      <td>allan, j.r.</td>\n",
       "      <td>turvey, k.</td>\n",
       "      <td>hovland, m.</td>\n",
       "    </tr>\n",
       "    <tr>\n",
       "      <th>2</th>\n",
       "      <td>allan, j.r.</td>\n",
       "      <td>gerrard, d.l.</td>\n",
       "      <td>n’tsoukpoe, kokouvi edem</td>\n",
       "    </tr>\n",
       "    <tr>\n",
       "      <th>3</th>\n",
       "      <td>allan, j.r.</td>\n",
       "      <td>hoey, s.</td>\n",
       "      <td>schegelsky, v.a.</td>\n",
       "    </tr>\n",
       "    <tr>\n",
       "      <th>4</th>\n",
       "      <td>paton, a.d.</td>\n",
       "      <td>turvey, k.</td>\n",
       "      <td>morley, c.</td>\n",
       "    </tr>\n",
       "  </tbody>\n",
       "</table>\n",
       "</div>"
      ],
      "text/plain": [
       "     Creator_1      Creator_2            Random_Creator\n",
       "0  allan, j.r.    paton, a.d.              petersen, j.\n",
       "1  allan, j.r.     turvey, k.               hovland, m.\n",
       "2  allan, j.r.  gerrard, d.l.  n’tsoukpoe, kokouvi edem\n",
       "3  allan, j.r.       hoey, s.          schegelsky, v.a.\n",
       "4  paton, a.d.     turvey, k.                morley, c."
      ]
     },
     "execution_count": 214,
     "metadata": {},
     "output_type": "execute_result"
    }
   ],
   "source": [
    "# Triplas de Keywords para avaliação\n",
    "Test_Corpus_creator.head()"
   ]
  },
  {
   "cell_type": "markdown",
   "metadata": {},
   "source": [
    "## Keywords"
   ]
  },
  {
   "cell_type": "markdown",
   "metadata": {},
   "source": [
    "Unindo os corpus de teste com os vetores das keywords"
   ]
  },
  {
   "cell_type": "code",
   "execution_count": 215,
   "metadata": {},
   "outputs": [],
   "source": [
    "# Criando arrays para os vetores\n",
    "vector_1 = []\n",
    "vector_2 = []\n",
    "random_vector = []\n",
    "\n",
    "# Para cada linha do corpus de teste identificar os vetores para cada keyword\n",
    "for index, line in Test_Corpus_keywords.iterrows():\n",
    "    vector_1.append(Keyword_vectors[Keyword_vectors[\"Keywords\"]==line[0]][\"Doc2Vec\"].values[0])\n",
    "    vector_2.append(Keyword_vectors[Keyword_vectors[\"Keywords\"]==line[1]][\"Doc2Vec\"].values[0])\n",
    "    random_vector.append(Keyword_vectors[Keyword_vectors[\"Keywords\"]==line[2]][\"Doc2Vec\"].values[0])"
   ]
  },
  {
   "cell_type": "code",
   "execution_count": 216,
   "metadata": {},
   "outputs": [],
   "source": [
    "# Incorporar os vetores no DataFrame \"test_corpus\"\n",
    "Test_Corpus_keywords[\"vector_1\"] = vector_1\n",
    "Test_Corpus_keywords[\"vector_2\"] = vector_2\n",
    "Test_Corpus_keywords[\"random_vector\"] = random_vector"
   ]
  },
  {
   "cell_type": "code",
   "execution_count": 217,
   "metadata": {},
   "outputs": [],
   "source": [
    "# Incorporar as distâncias coseno entre os vetores\n",
    "Test_Corpus_keywords[\"CosDist 1-2\"] = Test_Corpus_keywords[[\"vector_1\",\n",
    "                                                            \"vector_2\"]].apply(lambda x: spatial.\n",
    "                                                                               distance.\n",
    "                                                                               cosine(*x),\n",
    "                                                                               axis=1)\n",
    "Test_Corpus_keywords[\"CosDist 1-Random\"] = Test_Corpus_keywords[[\"vector_1\",\n",
    "                                                                 \"random_vector\"]].apply(lambda x: spatial.\n",
    "                                                                                         distance.\n",
    "                                                                                         cosine(*x),\n",
    "                                                                                         axis=1)\n",
    "Test_Corpus_keywords[\"CosDist 2-Random\"] = Test_Corpus_keywords[[\"vector_2\",\n",
    "                                                                 \"random_vector\"]].apply(lambda x: spatial.\n",
    "                                                                                         distance.\n",
    "                                                                                         cosine(*x),\n",
    "                                                                                         axis=1)"
   ]
  },
  {
   "cell_type": "code",
   "execution_count": 218,
   "metadata": {},
   "outputs": [],
   "source": [
    "# O score é média entre as diferenças entre CostDist 1 - Random e CosDist 1 - 2, CostDist 2 - Random e CosDist 1 - 2\n",
    "Test_Corpus_keywords[\"Score\"] = ((Test_Corpus_keywords[\"CosDist 1-Random\"] - \n",
    "                                  Test_Corpus_keywords[\"CosDist 1-2\"]) +\n",
    "                                 (Test_Corpus_keywords[\"CosDist 2-Random\"] - \n",
    "                                  Test_Corpus_keywords[\"CosDist 1-2\"])) / 2"
   ]
  },
  {
   "cell_type": "code",
   "execution_count": 219,
   "metadata": {},
   "outputs": [],
   "source": [
    "# O Score_bool é True quando CosDist 1-2 é maior que as distancias para o vetor aleatório. \n",
    "# A métrica é dado pelo percentual de True no total\n",
    "Test_Corpus_keywords[\"Score_bool\"] = ((Test_Corpus_keywords[\"CosDist 1-Random\"] >\n",
    "                                       Test_Corpus_keywords[\"CosDist 1-2\"]) &\n",
    "                                      (Test_Corpus_keywords[\"CosDist 2-Random\"] > \n",
    "                                       Test_Corpus_keywords[\"CosDist 1-2\"]))"
   ]
  },
  {
   "cell_type": "markdown",
   "metadata": {},
   "source": [
    "Calculando o score para as keywords"
   ]
  },
  {
   "cell_type": "code",
   "execution_count": 220,
   "metadata": {},
   "outputs": [
    {
     "name": "stdout",
     "output_type": "stream",
     "text": [
      "O Keyword Score foi:  0.6423788514944921\n",
      "O Keyword Score_bool foi:  0.8041965528316026\n"
     ]
    }
   ],
   "source": [
    "keyword_score = Test_Corpus_keywords[\"Score\"].mean()\n",
    "keyword_score_bool = (Test_Corpus_keywords[\"Score_bool\"].sum() /\n",
    "                      len(Test_Corpus_keywords[\"Score_bool\"]))\n",
    "\n",
    "print (\"O Keyword Score foi: \", keyword_score)\n",
    "print (\"O Keyword Score_bool foi: \", keyword_score_bool)"
   ]
  },
  {
   "cell_type": "markdown",
   "metadata": {},
   "source": [
    "## Autores"
   ]
  },
  {
   "cell_type": "markdown",
   "metadata": {},
   "source": [
    "Unindo os corpus de teste com os vetores dos autores"
   ]
  },
  {
   "cell_type": "code",
   "execution_count": 221,
   "metadata": {},
   "outputs": [],
   "source": [
    "# Criando arrays para os vetores\n",
    "vector_1 = []\n",
    "vector_2 = []\n",
    "random_vector = []\n",
    "\n",
    "# Para cada linha do corpus de teste identificar os vetores para cada autor\n",
    "\n",
    "for index, line in Test_Corpus_creator.iterrows():\n",
    "    try:        \n",
    "        vector_1.append(Creator_vectors[Creator_vectors[\"Creator\"]==line[0]][\"Doc2Vec\"].values[0])\n",
    "    except:\n",
    "        vector_1.append('branco')\n",
    "    \n",
    "    try:\n",
    "        vector_2.append(Creator_vectors[Creator_vectors[\"Creator\"]==line[1]][\"Doc2Vec\"].values[0])\n",
    "    except:\n",
    "        vector_2.append('branco')\n",
    "    \n",
    "    try:\n",
    "        random_vector.append(Creator_vectors[Creator_vectors[\"Creator\"]==line[2]][\"Doc2Vec\"].values[0])\n",
    "    except:\n",
    "        random_vector.append('branco')"
   ]
  },
  {
   "cell_type": "code",
   "execution_count": 222,
   "metadata": {},
   "outputs": [],
   "source": [
    "# Incorporar os vetores no DataFrame \"Test_Corpus_creator\"\n",
    "Test_Corpus_creator[\"vector_1\"] = vector_1\n",
    "Test_Corpus_creator[\"vector_2\"] = vector_2\n",
    "Test_Corpus_creator[\"random_vector\"] = random_vector"
   ]
  },
  {
   "cell_type": "code",
   "execution_count": 223,
   "metadata": {},
   "outputs": [],
   "source": [
    "# Retirando os vetores que retornaram em branco\n",
    "Test_Corpus_creator = Test_Corpus_creator[(Test_Corpus_creator[\"vector_1\"]!='branco') &\n",
    "                                          (Test_Corpus_creator[\"vector_2\"]!='branco') & \n",
    "                                          (Test_Corpus_creator[\"random_vector\"]!='branco')]"
   ]
  },
  {
   "cell_type": "code",
   "execution_count": 224,
   "metadata": {},
   "outputs": [],
   "source": [
    "# Incorporar as distâncias coseno entre os vetores\n",
    "Test_Corpus_creator[\"CosDist 1-2\"] = Test_Corpus_creator[[\"vector_1\",\n",
    "                                                          \"vector_2\"]].apply(lambda x: spatial.\n",
    "                                                                             distance.\n",
    "                                                                             cosine(*x),\n",
    "                                                                             axis=1)\n",
    "Test_Corpus_creator[\"CosDist 1-Random\"] = Test_Corpus_creator[[\"vector_1\",\n",
    "                                                               \"random_vector\"]].apply(lambda x: spatial.\n",
    "                                                                                       distance.\n",
    "                                                                                       cosine(*x),\n",
    "                                                                                       axis=1)\n",
    "Test_Corpus_creator[\"CosDist 2-Random\"] = Test_Corpus_creator[[\"vector_2\",\n",
    "                                                               \"random_vector\"]].apply(lambda x: spatial.\n",
    "                                                                                       distance.\n",
    "                                                                                       cosine(*x),\n",
    "                                                                                       axis=1)"
   ]
  },
  {
   "cell_type": "code",
   "execution_count": 225,
   "metadata": {},
   "outputs": [],
   "source": [
    "# O score é média entre as diferenças entre CostDist 1 - Random e CosDist 1 - 2, CostDist 2 - Random e CosDist 1 - 2\n",
    "Test_Corpus_creator[\"Score\"] = ((Test_Corpus_creator[\"CosDist 1-Random\"] - \n",
    "                                 Test_Corpus_creator[\"CosDist 1-2\"]) +\n",
    "                                (Test_Corpus_creator[\"CosDist 2-Random\"] - \n",
    "                                 Test_Corpus_creator[\"CosDist 1-2\"])) / 2"
   ]
  },
  {
   "cell_type": "code",
   "execution_count": 226,
   "metadata": {},
   "outputs": [],
   "source": [
    "# O Score_bool é True quando CosDist 1-2 é maior que as distancias para o vetor aleatório. \n",
    "# A métrica é dado pelo percentual de True no total\n",
    "Test_Corpus_creator[\"Score_bool\"] = ((Test_Corpus_creator[\"CosDist 1-Random\"] >\n",
    "                                      Test_Corpus_creator[\"CosDist 1-2\"]) &\n",
    "                                     (Test_Corpus_creator[\"CosDist 2-Random\"] > \n",
    "                                      Test_Corpus_creator[\"CosDist 1-2\"]))"
   ]
  },
  {
   "cell_type": "markdown",
   "metadata": {},
   "source": [
    "Calculando o score para os autores"
   ]
  },
  {
   "cell_type": "code",
   "execution_count": 227,
   "metadata": {},
   "outputs": [
    {
     "name": "stdout",
     "output_type": "stream",
     "text": [
      "O Creator Score foi:  0.8353482928502103\n",
      "O Creator Score_bool foi:  0.96982915303526\n"
     ]
    }
   ],
   "source": [
    "creator_score = Test_Corpus_creator[\"Score\"].mean()\n",
    "creator_score_bool = (Test_Corpus_creator[\"Score_bool\"].sum() /\n",
    "                      len(Test_Corpus_creator[\"Score_bool\"]))\n",
    "\n",
    "print (\"O Creator Score foi: \", creator_score)\n",
    "print (\"O Creator Score_bool foi: \", creator_score_bool)"
   ]
  },
  {
   "cell_type": "markdown",
   "metadata": {},
   "source": [
    "## Score Global"
   ]
  },
  {
   "cell_type": "markdown",
   "metadata": {},
   "source": [
    "Consideramos o score global como a média dos scores das keywords e dos autores"
   ]
  },
  {
   "cell_type": "code",
   "execution_count": 228,
   "metadata": {},
   "outputs": [
    {
     "name": "stdout",
     "output_type": "stream",
     "text": [
      "O Global Score foi:  0.7388635721723512\n",
      "O Global Score_bool foi:  0.8870128529334314\n"
     ]
    }
   ],
   "source": [
    "print (\"O Global Score foi: \", (creator_score + keyword_score) / 2)\n",
    "print (\"O Global Score_bool foi: \", (creator_score_bool + keyword_score_bool) / 2)"
   ]
  }
 ],
 "metadata": {
  "kernelspec": {
   "display_name": "Python 3",
   "language": "python",
   "name": "python3"
  },
  "language_info": {
   "codemirror_mode": {
    "name": "ipython",
    "version": 3
   },
   "file_extension": ".py",
   "mimetype": "text/x-python",
   "name": "python",
   "nbconvert_exporter": "python",
   "pygments_lexer": "ipython3",
   "version": "3.6.4"
  }
 },
 "nbformat": 4,
 "nbformat_minor": 2
}
