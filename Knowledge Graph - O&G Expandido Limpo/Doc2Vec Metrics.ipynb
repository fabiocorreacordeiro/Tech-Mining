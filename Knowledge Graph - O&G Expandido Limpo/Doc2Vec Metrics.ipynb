{
 "cells": [
  {
   "cell_type": "markdown",
   "metadata": {},
   "source": [
    "Neste notebook será avaliado o quão boa foi a vetorização das Keywords. Para tal usamos dois conjuntos de teste composto por três colunas. No primeiro conjuto usamos as próprias keywords, as duas primeiras colunas contém keywords que foram extraídas de um mesmo artigo, já a terceira coluna tem um keyword aleatória. Espera-se que os vetores da primeira e segunda coluna estejam mais próximo entre si do que do vetor da keyword aleatória. O segundo conjunto de teste usa a mesma abordagem mas ao invés de usar keywords usa os autores dos artigos."
   ]
  },
  {
   "cell_type": "markdown",
   "metadata": {},
   "source": [
    "Importando bibliotecas"
   ]
  },
  {
   "cell_type": "code",
   "execution_count": 1,
   "metadata": {},
   "outputs": [
    {
     "name": "stderr",
     "output_type": "stream",
     "text": [
      "C:\\ProgramData\\Anaconda3\\lib\\site-packages\\gensim\\utils.py:1212: UserWarning: detected Windows; aliasing chunkize to chunkize_serial\n",
      "  warnings.warn(\"detected Windows; aliasing chunkize to chunkize_serial\")\n"
     ]
    }
   ],
   "source": [
    "import pandas as pd\n",
    "from gensim.models.doc2vec import Doc2Vec\n",
    "from scipy import spatial"
   ]
  },
  {
   "cell_type": "markdown",
   "metadata": {},
   "source": [
    "Lendo os arquivos"
   ]
  },
  {
   "cell_type": "code",
   "execution_count": 2,
   "metadata": {},
   "outputs": [],
   "source": [
    "# Keyword Vectors\n",
    "Keyword_vectors = pd.read_json(\"Elsevier_abstract_complete_text - Keywords.json\")\n",
    "# Keyword Test Corpus\n",
    "Test_Corpus_keywords = pd.read_csv(\"Test_Corpus_keywords.csv\", index_col=0)\n",
    "# Creator Vectors\n",
    "Creator_vectors = pd.read_json(\"Elsevier_abstract_complete_text - Creators.json\")\n",
    "# Creator Test Corpus\n",
    "Test_Corpus_creator = pd.read_csv(\"Test_Corpus_creator.csv\", index_col=0)\n",
    "# Modelo Doc2Vec\n",
    "doc2vec = Doc2Vec.load(\"AbstractKG_doc2vec_model\")"
   ]
  },
  {
   "cell_type": "code",
   "execution_count": 3,
   "metadata": {},
   "outputs": [
    {
     "data": {
      "text/html": [
       "<div>\n",
       "<style scoped>\n",
       "    .dataframe tbody tr th:only-of-type {\n",
       "        vertical-align: middle;\n",
       "    }\n",
       "\n",
       "    .dataframe tbody tr th {\n",
       "        vertical-align: top;\n",
       "    }\n",
       "\n",
       "    .dataframe thead th {\n",
       "        text-align: right;\n",
       "    }\n",
       "</style>\n",
       "<table border=\"1\" class=\"dataframe\">\n",
       "  <thead>\n",
       "    <tr style=\"text-align: right;\">\n",
       "      <th></th>\n",
       "      <th>Abstract</th>\n",
       "      <th>Creator</th>\n",
       "      <th>Doc2Vec</th>\n",
       "    </tr>\n",
       "  </thead>\n",
       "  <tbody>\n",
       "    <tr>\n",
       "      <th>0</th>\n",
       "      <td>[detailed, experimental, data, including, temp...</td>\n",
       "      <td>kontogeorgis, georgios m.</td>\n",
       "      <td>[1.2801563740000002, 4.2987875938, -1.17563080...</td>\n",
       "    </tr>\n",
       "    <tr>\n",
       "      <th>1</th>\n",
       "      <td>[presently, upwelling, is, of, major, importan...</td>\n",
       "      <td>sinninghe damsté, jaap s.</td>\n",
       "      <td>[3.9878189564, 0.2559892535, 5.0495486259, -4....</td>\n",
       "    </tr>\n",
       "    <tr>\n",
       "      <th>10</th>\n",
       "      <td>[mineralogical, geochemical, structural, and, ...</td>\n",
       "      <td>cathelineau, michel</td>\n",
       "      <td>[-2.7941410542, -2.6100623607999998, 4.5452384...</td>\n",
       "    </tr>\n",
       "    <tr>\n",
       "      <th>100</th>\n",
       "      <td>[bench, top, nuclear, magnetic, resonance, nmr...</td>\n",
       "      <td>may, eric f.</td>\n",
       "      <td>[1.6743534803, 1.9385647773999999, 2.899723053...</td>\n",
       "    </tr>\n",
       "    <tr>\n",
       "      <th>1000</th>\n",
       "      <td>[combined, pb, and, lu, hf, isotope, data, fro...</td>\n",
       "      <td>laurent, oscar</td>\n",
       "      <td>[-5.2161836624, -3.8296308517, 4.0542969704, -...</td>\n",
       "    </tr>\n",
       "  </tbody>\n",
       "</table>\n",
       "</div>"
      ],
      "text/plain": [
       "                                               Abstract  \\\n",
       "0     [detailed, experimental, data, including, temp...   \n",
       "1     [presently, upwelling, is, of, major, importan...   \n",
       "10    [mineralogical, geochemical, structural, and, ...   \n",
       "100   [bench, top, nuclear, magnetic, resonance, nmr...   \n",
       "1000  [combined, pb, and, lu, hf, isotope, data, fro...   \n",
       "\n",
       "                        Creator  \\\n",
       "0     kontogeorgis, georgios m.   \n",
       "1     sinninghe damsté, jaap s.   \n",
       "10          cathelineau, michel   \n",
       "100                may, eric f.   \n",
       "1000             laurent, oscar   \n",
       "\n",
       "                                                Doc2Vec  \n",
       "0     [1.2801563740000002, 4.2987875938, -1.17563080...  \n",
       "1     [3.9878189564, 0.2559892535, 5.0495486259, -4....  \n",
       "10    [-2.7941410542, -2.6100623607999998, 4.5452384...  \n",
       "100   [1.6743534803, 1.9385647773999999, 2.899723053...  \n",
       "1000  [-5.2161836624, -3.8296308517, 4.0542969704, -...  "
      ]
     },
     "execution_count": 3,
     "metadata": {},
     "output_type": "execute_result"
    }
   ],
   "source": [
    "# Vetores das Keywords\n",
    "Creator_vectors.head()"
   ]
  },
  {
   "cell_type": "code",
   "execution_count": 4,
   "metadata": {},
   "outputs": [
    {
     "data": {
      "text/html": [
       "<div>\n",
       "<style scoped>\n",
       "    .dataframe tbody tr th:only-of-type {\n",
       "        vertical-align: middle;\n",
       "    }\n",
       "\n",
       "    .dataframe tbody tr th {\n",
       "        vertical-align: top;\n",
       "    }\n",
       "\n",
       "    .dataframe thead th {\n",
       "        text-align: right;\n",
       "    }\n",
       "</style>\n",
       "<table border=\"1\" class=\"dataframe\">\n",
       "  <thead>\n",
       "    <tr style=\"text-align: right;\">\n",
       "      <th></th>\n",
       "      <th>Keyword_1</th>\n",
       "      <th>Keyword_2</th>\n",
       "      <th>Random_keyword</th>\n",
       "    </tr>\n",
       "  </thead>\n",
       "  <tbody>\n",
       "    <tr>\n",
       "      <th>0</th>\n",
       "      <td>neogene</td>\n",
       "      <td>paleoecology</td>\n",
       "      <td>climate</td>\n",
       "    </tr>\n",
       "    <tr>\n",
       "      <th>1</th>\n",
       "      <td>eastern mediterranean</td>\n",
       "      <td>speleothems</td>\n",
       "      <td>optimisation</td>\n",
       "    </tr>\n",
       "    <tr>\n",
       "      <th>2</th>\n",
       "      <td>eastern mediterranean</td>\n",
       "      <td>paleoclimate</td>\n",
       "      <td>geophysics</td>\n",
       "    </tr>\n",
       "    <tr>\n",
       "      <th>3</th>\n",
       "      <td>speleothems</td>\n",
       "      <td>paleoclimate</td>\n",
       "      <td>taiwan</td>\n",
       "    </tr>\n",
       "    <tr>\n",
       "      <th>4</th>\n",
       "      <td>são francisco craton</td>\n",
       "      <td>u–pb dating</td>\n",
       "      <td>sediment transport</td>\n",
       "    </tr>\n",
       "  </tbody>\n",
       "</table>\n",
       "</div>"
      ],
      "text/plain": [
       "               Keyword_1     Keyword_2      Random_keyword\n",
       "0                neogene  paleoecology             climate\n",
       "1  eastern mediterranean   speleothems        optimisation\n",
       "2  eastern mediterranean  paleoclimate          geophysics\n",
       "3            speleothems  paleoclimate              taiwan\n",
       "4   são francisco craton   u–pb dating  sediment transport"
      ]
     },
     "execution_count": 4,
     "metadata": {},
     "output_type": "execute_result"
    }
   ],
   "source": [
    "Test_Corpus_keywords.head()"
   ]
  },
  {
   "cell_type": "code",
   "execution_count": 5,
   "metadata": {},
   "outputs": [
    {
     "data": {
      "text/html": [
       "<div>\n",
       "<style scoped>\n",
       "    .dataframe tbody tr th:only-of-type {\n",
       "        vertical-align: middle;\n",
       "    }\n",
       "\n",
       "    .dataframe tbody tr th {\n",
       "        vertical-align: top;\n",
       "    }\n",
       "\n",
       "    .dataframe thead th {\n",
       "        text-align: right;\n",
       "    }\n",
       "</style>\n",
       "<table border=\"1\" class=\"dataframe\">\n",
       "  <thead>\n",
       "    <tr style=\"text-align: right;\">\n",
       "      <th></th>\n",
       "      <th>Creator_1</th>\n",
       "      <th>Creator_2</th>\n",
       "      <th>Random_Creator</th>\n",
       "    </tr>\n",
       "  </thead>\n",
       "  <tbody>\n",
       "    <tr>\n",
       "      <th>0</th>\n",
       "      <td>bar-matthews, miryam</td>\n",
       "      <td>ayalon, avner</td>\n",
       "      <td>di primio, rolando</td>\n",
       "    </tr>\n",
       "    <tr>\n",
       "      <th>1</th>\n",
       "      <td>xing, lida</td>\n",
       "      <td>lockley, martin g.</td>\n",
       "      <td>feist, stephen w.</td>\n",
       "    </tr>\n",
       "    <tr>\n",
       "      <th>2</th>\n",
       "      <td>xing, lida</td>\n",
       "      <td>klein, hendrik</td>\n",
       "      <td>burnham, alan k.</td>\n",
       "    </tr>\n",
       "    <tr>\n",
       "      <th>3</th>\n",
       "      <td>lockley, martin g.</td>\n",
       "      <td>klein, hendrik</td>\n",
       "      <td>palomera, isabel</td>\n",
       "    </tr>\n",
       "    <tr>\n",
       "      <th>4</th>\n",
       "      <td>stenby, erling h.</td>\n",
       "      <td>thomsen, kaj</td>\n",
       "      <td>borgomano, jean</td>\n",
       "    </tr>\n",
       "  </tbody>\n",
       "</table>\n",
       "</div>"
      ],
      "text/plain": [
       "              Creator_1           Creator_2      Random_Creator\n",
       "0  bar-matthews, miryam       ayalon, avner  di primio, rolando\n",
       "1            xing, lida  lockley, martin g.   feist, stephen w.\n",
       "2            xing, lida      klein, hendrik    burnham, alan k.\n",
       "3    lockley, martin g.      klein, hendrik    palomera, isabel\n",
       "4     stenby, erling h.        thomsen, kaj     borgomano, jean"
      ]
     },
     "execution_count": 5,
     "metadata": {},
     "output_type": "execute_result"
    }
   ],
   "source": [
    "# Triplas de Keywords para avaliação\n",
    "Test_Corpus_creator.head()"
   ]
  },
  {
   "cell_type": "markdown",
   "metadata": {},
   "source": [
    "## Keywords"
   ]
  },
  {
   "cell_type": "markdown",
   "metadata": {},
   "source": [
    "Unindo os corpus de teste com os vetores das keywords"
   ]
  },
  {
   "cell_type": "code",
   "execution_count": 6,
   "metadata": {},
   "outputs": [],
   "source": [
    "# Criando arrays para os vetores\n",
    "vector_1 = []\n",
    "vector_2 = []\n",
    "random_vector = []\n",
    "\n",
    "# Para cada linha do corpus de teste identificar os vetores para cada keyword\n",
    "for index, line in Test_Corpus_keywords.iterrows():\n",
    "    vector_1.append(Keyword_vectors[Keyword_vectors[\"Keywords\"]==line[0]][\"Doc2Vec\"].values[0])\n",
    "    vector_2.append(Keyword_vectors[Keyword_vectors[\"Keywords\"]==line[1]][\"Doc2Vec\"].values[0])\n",
    "    random_vector.append(Keyword_vectors[Keyword_vectors[\"Keywords\"]==line[2]][\"Doc2Vec\"].values[0])"
   ]
  },
  {
   "cell_type": "code",
   "execution_count": 7,
   "metadata": {},
   "outputs": [],
   "source": [
    "# Incorporar os vetores no DataFrame \"test_corpus\"\n",
    "Test_Corpus_keywords[\"vector_1\"] = vector_1\n",
    "Test_Corpus_keywords[\"vector_2\"] = vector_2\n",
    "Test_Corpus_keywords[\"random_vector\"] = random_vector"
   ]
  },
  {
   "cell_type": "code",
   "execution_count": 8,
   "metadata": {},
   "outputs": [],
   "source": [
    "# Incorporar as distâncias coseno entre os vetores\n",
    "Test_Corpus_keywords[\"CosDist 1-2\"] = Test_Corpus_keywords[[\"vector_1\",\n",
    "                                                            \"vector_2\"]].apply(lambda x: spatial.\n",
    "                                                                               distance.\n",
    "                                                                               cosine(*x),\n",
    "                                                                               axis=1)\n",
    "Test_Corpus_keywords[\"CosDist 1-Random\"] = Test_Corpus_keywords[[\"vector_1\",\n",
    "                                                                 \"random_vector\"]].apply(lambda x: spatial.\n",
    "                                                                                         distance.\n",
    "                                                                                         cosine(*x),\n",
    "                                                                                         axis=1)\n",
    "Test_Corpus_keywords[\"CosDist 2-Random\"] = Test_Corpus_keywords[[\"vector_2\",\n",
    "                                                                 \"random_vector\"]].apply(lambda x: spatial.\n",
    "                                                                                         distance.\n",
    "                                                                                         cosine(*x),\n",
    "                                                                                         axis=1)"
   ]
  },
  {
   "cell_type": "code",
   "execution_count": 9,
   "metadata": {},
   "outputs": [],
   "source": [
    "# O score é média entre as diferenças entre CostDist 1 - Random e CosDist 1 - 2, CostDist 2 - Random e CosDist 1 - 2\n",
    "Test_Corpus_keywords[\"Score\"] = ((Test_Corpus_keywords[\"CosDist 1-Random\"] - \n",
    "                                  Test_Corpus_keywords[\"CosDist 1-2\"]) +\n",
    "                                 (Test_Corpus_keywords[\"CosDist 2-Random\"] - \n",
    "                                  Test_Corpus_keywords[\"CosDist 1-2\"])) / 2"
   ]
  },
  {
   "cell_type": "code",
   "execution_count": 10,
   "metadata": {},
   "outputs": [],
   "source": [
    "# O Score_bool é True quando CosDist 1-2 é maior que as distancias para o vetor aleatório. \n",
    "# A métrica é dado pelo percentual de True no total\n",
    "Test_Corpus_keywords[\"Score_bool\"] = ((Test_Corpus_keywords[\"CosDist 1-Random\"] >\n",
    "                                       Test_Corpus_keywords[\"CosDist 1-2\"]) &\n",
    "                                      (Test_Corpus_keywords[\"CosDist 2-Random\"] > \n",
    "                                       Test_Corpus_keywords[\"CosDist 1-2\"]))"
   ]
  },
  {
   "cell_type": "markdown",
   "metadata": {},
   "source": [
    "Calculando o score para as keywords"
   ]
  },
  {
   "cell_type": "code",
   "execution_count": 11,
   "metadata": {},
   "outputs": [
    {
     "name": "stdout",
     "output_type": "stream",
     "text": [
      "O Keyword Score foi:  0.6281530463016096\n",
      "O Keyword Score_bool foi:  0.7061235977644646\n"
     ]
    }
   ],
   "source": [
    "keyword_score = Test_Corpus_keywords[\"Score\"].mean()\n",
    "keyword_score_bool = (Test_Corpus_keywords[\"Score_bool\"].sum() /\n",
    "                      len(Test_Corpus_keywords[\"Score_bool\"]))\n",
    "\n",
    "print (\"O Keyword Score foi: \", keyword_score)\n",
    "print (\"O Keyword Score_bool foi: \", keyword_score_bool)"
   ]
  },
  {
   "cell_type": "markdown",
   "metadata": {},
   "source": [
    "## Autores"
   ]
  },
  {
   "cell_type": "markdown",
   "metadata": {},
   "source": [
    "Unindo os corpus de teste com os vetores dos autores"
   ]
  },
  {
   "cell_type": "code",
   "execution_count": 12,
   "metadata": {},
   "outputs": [],
   "source": [
    "# Criando arrays para os vetores\n",
    "vector_1 = []\n",
    "vector_2 = []\n",
    "random_vector = []\n",
    "\n",
    "# Para cada linha do corpus de teste identificar os vetores para cada autor\n",
    "\n",
    "for index, line in Test_Corpus_creator.iterrows():\n",
    "    try:        \n",
    "        vector_1.append(Creator_vectors[Creator_vectors[\"Creator\"]==line[0]][\"Doc2Vec\"].values[0])\n",
    "    except:\n",
    "        vector_1.append('branco')\n",
    "    \n",
    "    try:\n",
    "        vector_2.append(Creator_vectors[Creator_vectors[\"Creator\"]==line[1]][\"Doc2Vec\"].values[0])\n",
    "    except:\n",
    "        vector_2.append('branco')\n",
    "    \n",
    "    try:\n",
    "        random_vector.append(Creator_vectors[Creator_vectors[\"Creator\"]==line[2]][\"Doc2Vec\"].values[0])\n",
    "    except:\n",
    "        random_vector.append('branco')"
   ]
  },
  {
   "cell_type": "code",
   "execution_count": 13,
   "metadata": {},
   "outputs": [],
   "source": [
    "# Incorporar os vetores no DataFrame \"Test_Corpus_creator\"\n",
    "Test_Corpus_creator[\"vector_1\"] = vector_1\n",
    "Test_Corpus_creator[\"vector_2\"] = vector_2\n",
    "Test_Corpus_creator[\"random_vector\"] = random_vector"
   ]
  },
  {
   "cell_type": "code",
   "execution_count": 14,
   "metadata": {},
   "outputs": [],
   "source": [
    "# Retirando os vetores que retornaram em branco\n",
    "Test_Corpus_creator = Test_Corpus_creator[(Test_Corpus_creator[\"vector_1\"]!='branco') &\n",
    "                                          (Test_Corpus_creator[\"vector_2\"]!='branco') & \n",
    "                                          (Test_Corpus_creator[\"random_vector\"]!='branco')]"
   ]
  },
  {
   "cell_type": "code",
   "execution_count": 15,
   "metadata": {},
   "outputs": [],
   "source": [
    "# Incorporar as distâncias coseno entre os vetores\n",
    "Test_Corpus_creator[\"CosDist 1-2\"] = Test_Corpus_creator[[\"vector_1\",\n",
    "                                                          \"vector_2\"]].apply(lambda x: spatial.\n",
    "                                                                             distance.\n",
    "                                                                             cosine(*x),\n",
    "                                                                             axis=1)\n",
    "Test_Corpus_creator[\"CosDist 1-Random\"] = Test_Corpus_creator[[\"vector_1\",\n",
    "                                                               \"random_vector\"]].apply(lambda x: spatial.\n",
    "                                                                                       distance.\n",
    "                                                                                       cosine(*x),\n",
    "                                                                                       axis=1)\n",
    "Test_Corpus_creator[\"CosDist 2-Random\"] = Test_Corpus_creator[[\"vector_2\",\n",
    "                                                               \"random_vector\"]].apply(lambda x: spatial.\n",
    "                                                                                       distance.\n",
    "                                                                                       cosine(*x),\n",
    "                                                                                       axis=1)"
   ]
  },
  {
   "cell_type": "code",
   "execution_count": 16,
   "metadata": {},
   "outputs": [],
   "source": [
    "# O score é média entre as diferenças entre CostDist 1 - Random e CosDist 1 - 2, CostDist 2 - Random e CosDist 1 - 2\n",
    "Test_Corpus_creator[\"Score\"] = ((Test_Corpus_creator[\"CosDist 1-Random\"] - \n",
    "                                 Test_Corpus_creator[\"CosDist 1-2\"]) +\n",
    "                                (Test_Corpus_creator[\"CosDist 2-Random\"] - \n",
    "                                 Test_Corpus_creator[\"CosDist 1-2\"])) / 2"
   ]
  },
  {
   "cell_type": "code",
   "execution_count": 17,
   "metadata": {},
   "outputs": [],
   "source": [
    "# O Score_bool é True quando CosDist 1-2 é maior que as distancias para o vetor aleatório. \n",
    "# A métrica é dado pelo percentual de True no total\n",
    "Test_Corpus_creator[\"Score_bool\"] = ((Test_Corpus_creator[\"CosDist 1-Random\"] >\n",
    "                                      Test_Corpus_creator[\"CosDist 1-2\"]) &\n",
    "                                     (Test_Corpus_creator[\"CosDist 2-Random\"] > \n",
    "                                      Test_Corpus_creator[\"CosDist 1-2\"]))"
   ]
  },
  {
   "cell_type": "markdown",
   "metadata": {},
   "source": [
    "Calculando o score para os autores"
   ]
  },
  {
   "cell_type": "code",
   "execution_count": 18,
   "metadata": {},
   "outputs": [
    {
     "name": "stdout",
     "output_type": "stream",
     "text": [
      "O Creator Score foi:  0.898249460249788\n",
      "O Creator Score_bool foi:  0.9145847400405132\n"
     ]
    }
   ],
   "source": [
    "creator_score = Test_Corpus_creator[\"Score\"].mean()\n",
    "creator_score_bool = (Test_Corpus_creator[\"Score_bool\"].sum() /\n",
    "                      len(Test_Corpus_creator[\"Score_bool\"]))\n",
    "\n",
    "print (\"O Creator Score foi: \", creator_score)\n",
    "print (\"O Creator Score_bool foi: \", creator_score_bool)"
   ]
  },
  {
   "cell_type": "markdown",
   "metadata": {},
   "source": [
    "## Score Global"
   ]
  },
  {
   "cell_type": "markdown",
   "metadata": {},
   "source": [
    "Consideramos o score global como a média dos scores das keywords e dos autores"
   ]
  },
  {
   "cell_type": "code",
   "execution_count": 19,
   "metadata": {},
   "outputs": [
    {
     "name": "stdout",
     "output_type": "stream",
     "text": [
      "O Global Score foi:  0.7632012532756989\n",
      "O Global Score_bool foi:  0.8103541689024889\n"
     ]
    }
   ],
   "source": [
    "print (\"O Global Score foi: \", (creator_score + keyword_score) / 2)\n",
    "print (\"O Global Score_bool foi: \", (creator_score_bool + keyword_score_bool) / 2)"
   ]
  }
 ],
 "metadata": {
  "kernelspec": {
   "display_name": "Python 3",
   "language": "python",
   "name": "python3"
  },
  "language_info": {
   "codemirror_mode": {
    "name": "ipython",
    "version": 3
   },
   "file_extension": ".py",
   "mimetype": "text/x-python",
   "name": "python",
   "nbconvert_exporter": "python",
   "pygments_lexer": "ipython3",
   "version": "3.6.4"
  }
 },
 "nbformat": 4,
 "nbformat_minor": 2
}
